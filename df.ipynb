{
 "cells": [
  {
   "cell_type": "markdown",
   "metadata": {},
   "source": [
    "### Step 1: Import The Data"
   ]
  },
  {
   "cell_type": "code",
   "execution_count": null,
   "metadata": {},
   "outputs": [],
   "source": [
    "import pandas as pd\n",
    "import seaborn as sns\n",
    "import matplotlib.pyplot as plt\n",
    "import numpy as np\n",
    "\n",
    "from sklearn.model_selection import train_test_split\n",
    "from sklearn.linear_model import LinearRegression\n",
    "from sklearn.preprocessing import StandardScaler\n",
    "from sklearn.ensemble import RandomForestRegressor\n",
    "from sklearn.model_selection import GridSearchCV\n",
    "from sklearn.metrics import mean_squared_error\n",
    "\n",
    "from datetime import datetime\n",
    "from datetime import date\n",
    "\n",
    "import warnings\n",
    "warnings.filterwarnings('ignore')"
   ]
  },
  {
   "cell_type": "code",
   "execution_count": null,
   "metadata": {},
   "outputs": [],
   "source": [
    "df = pd.read_csv(\"AdvWorksCusts.csv\")\n"
   ]
  },
  {
   "cell_type": "code",
   "execution_count": null,
   "metadata": {},
   "outputs": [],
   "source": [
    "avMoDf = pd.read_csv('AW_AveMonthSpend.csv')\n"
   ]
  },
  {
   "cell_type": "code",
   "execution_count": null,
   "metadata": {},
   "outputs": [],
   "source": [
    "bikeBuyerDf = pd.read_csv('AW_BikeBuyer.csv')"
   ]
  },
  {
   "cell_type": "markdown",
   "metadata": {},
   "source": [
    "### Step 2: Understand The Data\n"
   ]
  },
  {
   "cell_type": "code",
   "execution_count": null,
   "metadata": {},
   "outputs": [],
   "source": [
    "print(df.shape[0])\n",
    "print(df.shape[1])\n"
   ]
  },
  {
   "cell_type": "code",
   "execution_count": null,
   "metadata": {},
   "outputs": [],
   "source": [
    "df.isnull().sum()\n"
   ]
  },
  {
   "cell_type": "code",
   "execution_count": null,
   "metadata": {},
   "outputs": [],
   "source": [
    "df.dtypes\n"
   ]
  },
  {
   "cell_type": "code",
   "execution_count": null,
   "metadata": {},
   "outputs": [],
   "source": [
    "df.describe()\n"
   ]
  },
  {
   "cell_type": "code",
   "execution_count": null,
   "metadata": {},
   "outputs": [],
   "source": [
    "for column in df.columns:\n",
    "    print(f\"{column} : {len(df[column].unique())}\")"
   ]
  },
  {
   "cell_type": "markdown",
   "metadata": {},
   "source": [
    "### Step 3: Clean And Prepare The Data"
   ]
  },
  {
   "cell_type": "markdown",
   "metadata": {},
   "source": [
    "#### DF"
   ]
  },
  {
   "cell_type": "code",
   "execution_count": null,
   "metadata": {},
   "outputs": [],
   "source": [
    "df.columns = [str.replace('-', '_') for str in df.columns]"
   ]
  },
  {
   "cell_type": "code",
   "execution_count": null,
   "metadata": {},
   "outputs": [],
   "source": [
    "df.drop('AddressLine2', axis = 1, inplace = True)\n",
    "df.drop('MiddleName', axis = 1, inplace = True)\n",
    "df.drop('Suffix', axis = 1, inplace = True)\n",
    "df.drop('Title', axis = 1, inplace = True)"
   ]
  },
  {
   "cell_type": "code",
   "execution_count": null,
   "metadata": {},
   "outputs": [],
   "source": [
    "df = df.rename(columns={\"BirthDate\": \"Age\"})\n",
    "\n",
    "def calculate_age(born):\n",
    "    born = datetime.strptime(born, \"%Y-%m-%d\").date()\n",
    "    date_year = 1998\n",
    "    date_month = 1\n",
    "    date_day = 1\n",
    "    return date_year - born.year - ((date_month, date_day) < (born.month, born.day))\n",
    "\n",
    "df['Age'] = df['Age'].apply(calculate_age)\n",
    "\n",
    "df.head()"
   ]
  },
  {
   "cell_type": "markdown",
   "metadata": {},
   "source": [
    "#### AVMODF"
   ]
  },
  {
   "cell_type": "code",
   "execution_count": null,
   "metadata": {},
   "outputs": [],
   "source": [
    "avMoDf.dropna()\n",
    "avMoDf.drop_duplicates(subset = 'CustomerID', keep = 'first', inplace = True)\n",
    "\n",
    "print(avMoDf.shape)\n",
    "print(df.shape)\n",
    "\n",
    "dataFrame = pd.merge(avMoDf, df, how='left', on=['CustomerID'])\n",
    "dataFrame.head()"
   ]
  },
  {
   "cell_type": "markdown",
   "metadata": {},
   "source": [
    "#### BIKEBUYERDF"
   ]
  },
  {
   "cell_type": "code",
   "execution_count": null,
   "metadata": {},
   "outputs": [],
   "source": [
    "bikeBuyerDf.drop_duplicates(subset = 'CustomerID', keep = 'first', inplace = True)"
   ]
  },
  {
   "cell_type": "markdown",
   "metadata": {},
   "source": [
    "#### DATAFRAME"
   ]
  },
  {
   "cell_type": "code",
   "execution_count": null,
   "metadata": {},
   "outputs": [],
   "source": [
    "mask1 = (dataFrame['Gender'] == 'F') & (dataFrame['Age'] > 55)\n",
    "mask2 = (dataFrame['Gender'] == 'M') & (dataFrame['Age'] > 55)\n",
    "mask3 = (dataFrame['Gender'] == 'F') & (dataFrame['Age'] < 25)\n",
    "mask4 = (dataFrame['Gender'] == 'M') & (dataFrame['Age'] < 25)\n",
    "mask5 = (dataFrame['Gender'] == 'F') & (dataFrame['Age'] > 25) & (dataFrame['Age'] < 45)\n",
    "mask6 = (dataFrame['Gender'] == 'M') & (dataFrame['Age'] > 25) & (dataFrame['Age'] > 45)\n",
    "\n",
    "print('Females over 55 years of age   = ' + str(dataFrame[mask1]['AveMonthSpend'].median()))\n",
    "print('Males over 55 years of age     = ' + str(dataFrame[mask2]['AveMonthSpend'].median()))\n",
    "print('Females under 25 years of age  = ' + str(dataFrame[mask3]['AveMonthSpend'].median()))\n",
    "print('Males under 25 years of age    = ' + str(dataFrame[mask4]['AveMonthSpend'].median()))\n",
    "print('Females aged between 25 and 45 = ' + str(dataFrame[mask5]['AveMonthSpend'].median()))\n",
    "print('Males aged between 25 and 45   = ' + str(dataFrame[mask6]['AveMonthSpend'].median()))"
   ]
  },
  {
   "cell_type": "code",
   "execution_count": null,
   "metadata": {},
   "outputs": [],
   "source": [
    "mask1 = (dataFrame['MaritalStatus'] == 'M')\n",
    "mask2 = (dataFrame['MaritalStatus'] == 'S')\n",
    "\n",
    "print('Married AveMonthSpend = ' + str(dataFrame[mask1]['AveMonthSpend'].median()))\n",
    "print('Single AveMonthSpend  = ' + str(dataFrame[mask2]['AveMonthSpend'].median()))"
   ]
  },
  {
   "cell_type": "code",
   "execution_count": null,
   "metadata": {},
   "outputs": [],
   "source": [
    "mask1 = (dataFrame['NumberCarsOwned'] == 0)\n",
    "mask2 = (dataFrame['NumberCarsOwned'] > 2)\n",
    "\n",
    "print('Customers with no car           = ' + str(dataFrame[mask1]['AveMonthSpend'].median()))\n",
    "print('Customers with more than 2 cars = ' + str(dataFrame[mask2]['AveMonthSpend'].median()))"
   ]
  },
  {
   "cell_type": "code",
   "execution_count": null,
   "metadata": {},
   "outputs": [],
   "source": [
    "mask1 = (dataFrame['Gender'] == 'M')\n",
    "mask2 = (dataFrame['Gender'] == 'F')\n",
    "\n",
    "print('Male AveMonthSpend Range    = ' + str(dataFrame[mask1]['AveMonthSpend'].max() - dataFrame[mask1]['AveMonthSpend'].min()))\n",
    "print('Female AveMonthSpend Range  = ' + str(dataFrame[mask2]['AveMonthSpend'].max() - dataFrame[mask2]['AveMonthSpend'].min()))\n"
   ]
  },
  {
   "cell_type": "code",
   "execution_count": null,
   "metadata": {},
   "outputs": [],
   "source": [
    "mask1 = (dataFrame['NumberChildrenAtHome'] == 0)\n",
    "mask2 = (dataFrame['NumberChildrenAtHome'] > 0)\n",
    "\n",
    "print('Customers with no children           = ' + str(dataFrame[mask1]['AveMonthSpend'].median()))\n",
    "print('Customers with one or more children  = ' + str(dataFrame[mask2]['AveMonthSpend'].median()))\n"
   ]
  },
  {
   "cell_type": "markdown",
   "metadata": {},
   "source": [
    "#### NEWDF"
   ]
  },
  {
   "cell_type": "code",
   "execution_count": null,
   "metadata": {},
   "outputs": [],
   "source": [
    "newdf = pd.merge(dataFrame, bikeBuyerDf, how='left', on=['CustomerID'])"
   ]
  },
  {
   "cell_type": "code",
   "execution_count": null,
   "metadata": {},
   "outputs": [],
   "source": [
    "mask1 = (newdf['BikeBuyer'] == 0)\n",
    "mask2 = (newdf['BikeBuyer'] == 1)\n",
    "\n",
    "print('Avg. YearlyIncome for Did not buy a bike    = ' + str(newdf[mask1]['YearlyIncome'].median()))\n",
    "print('Avg. YearlyIncome for Bought a bike         = ' + str(newdf[mask2]['YearlyIncome'].median()))"
   ]
  },
  {
   "cell_type": "code",
   "execution_count": null,
   "metadata": {},
   "outputs": [],
   "source": [
    "print('Avg. Cars Owned for Did not buy a bike    = ' + str(newdf[mask1]['NumberCarsOwned'].median()))\n",
    "print('Avg. Cars Owned for Bought a bike         = ' + str(newdf[mask2]['NumberCarsOwned'].median()))"
   ]
  },
  {
   "cell_type": "code",
   "execution_count": null,
   "metadata": {},
   "outputs": [],
   "source": [
    "a = newdf[mask2].groupby('Occupation').agg(['count'])\n",
    "a['BikeBuyer'].head()"
   ]
  },
  {
   "cell_type": "code",
   "execution_count": null,
   "metadata": {},
   "outputs": [],
   "source": [
    "mask1 = (newdf['Gender'] == 'M') & (newdf['BikeBuyer'] == 1)\n",
    "mask2 = (newdf['Gender'] == 'F') & (newdf['BikeBuyer'] == 1)\n",
    "\n",
    "print('Number of male customers who bought bike   = ' + str(newdf[mask1]['BikeBuyer'].agg(['count'])))\n",
    "print('Number of female customers who bought bike = ' + str(newdf[mask2]['BikeBuyer'].agg(['count'])))"
   ]
  },
  {
   "cell_type": "code",
   "execution_count": null,
   "metadata": {},
   "outputs": [],
   "source": [
    "mask1 = (newdf['MaritalStatus'] == 'M') & (newdf['BikeBuyer'] == 1)\n",
    "mask2 = (newdf['MaritalStatus'] == 'S') & (newdf['BikeBuyer'] == 1)\n",
    "\n",
    "print('Married customers who bought bike   = ' + str(newdf[mask1]['BikeBuyer'].agg(['count'])))\n",
    "print('Single customers who bought bike    = ' + str(newdf[mask2]['BikeBuyer'].agg(['count'])))"
   ]
  },
  {
   "cell_type": "code",
   "execution_count": null,
   "metadata": {},
   "outputs": [],
   "source": [
    "newdf.drop(['CustomerID'], axis=1, inplace=True)"
   ]
  },
  {
   "cell_type": "code",
   "execution_count": null,
   "metadata": {},
   "outputs": [],
   "source": [
    "newdf_count = newdf['BikeBuyer'].value_counts()"
   ]
  },
  {
   "cell_type": "markdown",
   "metadata": {},
   "source": [
    "### Step 4: Feature Analysis"
   ]
  },
  {
   "cell_type": "code",
   "execution_count": null,
   "metadata": {},
   "outputs": [],
   "source": [
    "categoryColumns = ['CountryRegionName', 'Education', 'Occupation', 'Gender', \n",
    "                  'MaritalStatus']\n",
    "\n",
    "numerableColumns = ['AveMonthSpend', 'Age', 'HomeOwnerFlag',\n",
    "                    'NumberCarsOwned', 'NumberChildrenAtHome', 'TotalChildren', 'YearlyIncome']\n"
   ]
  },
  {
   "cell_type": "code",
   "execution_count": null,
   "metadata": {},
   "outputs": [],
   "source": [
    "\n",
    "def plotBox(newdf, cols, colX='BikeBuyer'):\n",
    "    for col in cols:\n",
    "        plt.figure(figsize=(18,6))\n",
    "        sns.set_style(\"whitegrid\")\n",
    "        sns.boxplot(x=colX, y=col, data=newdf)\n",
    "        plt.xlabel(colX) \n",
    "        plt.ylabel(col)\n",
    "        plt.show()\n",
    "\n",
    "plotBox(newdf, numerableColumns)"
   ]
  },
  {
   "cell_type": "code",
   "execution_count": null,
   "metadata": {},
   "outputs": [],
   "source": [
    "newdf['dummy'] = np.ones(shape = newdf.shape[0])\n",
    "\n",
    "for col in categoryColumns:\n",
    "    print(col)\n",
    "    counts = newdf[['dummy', 'BikeBuyer', col]].groupby(['BikeBuyer', col], as_index = False).count()\n",
    "    temp = counts[counts['BikeBuyer'] == 0][[col, 'dummy']]\n",
    "    _ = plt.figure(figsize = (10,4))\n",
    "    plt.subplot(1, 2, 1)\n",
    "    plt.bar(temp[col], temp.dummy)\n",
    "    plt.xticks(rotation=90)\n",
    "    plt.title('Counts for ' + col + '\\n No Doesnt')\n",
    "    plt.ylabel('count')\n",
    "    plt.subplot(1, 2, 2)\n",
    "    temp = counts[counts['BikeBuyer'] == 1][[col, 'dummy']]\n",
    "    plt.bar(temp[col], temp.dummy)\n",
    "    plt.xticks(rotation=90)\n",
    "    plt.title('Counts for ' + col + '\\n Yes BikeBuyer')\n",
    "    plt.ylabel('count')\n",
    "    plt.show()"
   ]
  },
  {
   "cell_type": "markdown",
   "metadata": {},
   "source": [
    "### Step 5: Machine Learning"
   ]
  },
  {
   "cell_type": "code",
   "execution_count": null,
   "metadata": {},
   "outputs": [],
   "source": [
    "s"
   ]
  }
 ],
 "metadata": {
  "kernelspec": {
   "display_name": "myenv",
   "language": "python",
   "name": "python3"
  },
  "language_info": {
   "codemirror_mode": {
    "name": "ipython",
    "version": 3
   },
   "file_extension": ".py",
   "mimetype": "text/x-python",
   "name": "python",
   "nbconvert_exporter": "python",
   "pygments_lexer": "ipython3",
   "version": "3.13.2"
  }
 },
 "nbformat": 4,
 "nbformat_minor": 2
}
